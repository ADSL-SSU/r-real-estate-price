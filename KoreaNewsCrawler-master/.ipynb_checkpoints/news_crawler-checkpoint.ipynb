{
 "cells": [
  {
   "cell_type": "code",
   "execution_count": 6,
   "metadata": {},
   "outputs": [
    {
     "name": "stdout",
     "output_type": "stream",
     "text": [
      "{'start_year': 2016, 'start_month': 1, 'end_year': 2016, 'end_month': 1}\n",
      "1\n",
      "{'start_year': 2016, 'start_month': 2, 'end_year': 2016, 'end_month': 2}\n",
      "2\n",
      "{'start_year': 2016, 'start_month': 3, 'end_year': 2016, 'end_month': 3}\n",
      "3\n",
      "{'start_year': 2016, 'start_month': 4, 'end_year': 2016, 'end_month': 4}\n",
      "4\n",
      "{'start_year': 2016, 'start_month': 5, 'end_year': 2016, 'end_month': 5}\n",
      "5\n",
      "{'start_year': 2016, 'start_month': 6, 'end_year': 2016, 'end_month': 6}\n",
      "6\n",
      "{'start_year': 2016, 'start_month': 7, 'end_year': 2016, 'end_month': 7}\n",
      "7\n",
      "{'start_year': 2016, 'start_month': 8, 'end_year': 2016, 'end_month': 8}\n",
      "8\n",
      "{'start_year': 2016, 'start_month': 9, 'end_year': 2016, 'end_month': 9}\n",
      "9\n",
      "{'start_year': 2016, 'start_month': 10, 'end_year': 2016, 'end_month': 10}\n",
      "10\n",
      "{'start_year': 2016, 'start_month': 11, 'end_year': 2016, 'end_month': 11}\n",
      "11\n",
      "{'start_year': 2016, 'start_month': 12, 'end_year': 2016, 'end_month': 12}\n",
      "12\n"
     ]
    }
   ],
   "source": [
    "from korea_news_crawler.articlecrawler import ArticleCrawler\n",
    "\n",
    "Crawler = ArticleCrawler()  \n",
    "Crawler.categories['부동산'] = 260\n",
    "\n",
    "Crawler.set_category(\"부동산\")  \n",
    "\n",
    "\n",
    "for month in range(1,13):\n",
    "    Crawler.set_date_range(2016, month, 2016, month)\n",
    "    Crawler.start()\n",
    "    print(month)\n"
   ]
  },
  {
   "cell_type": "code",
   "execution_count": null,
   "metadata": {},
   "outputs": [],
   "source": []
  }
 ],
 "metadata": {
  "kernelspec": {
   "display_name": "Python 3",
   "language": "python",
   "name": "python3"
  },
  "language_info": {
   "codemirror_mode": {
    "name": "ipython",
    "version": 3
   },
   "file_extension": ".py",
   "mimetype": "text/x-python",
   "name": "python",
   "nbconvert_exporter": "python",
   "pygments_lexer": "ipython3",
   "version": "3.8.3"
  }
 },
 "nbformat": 4,
 "nbformat_minor": 4
}
