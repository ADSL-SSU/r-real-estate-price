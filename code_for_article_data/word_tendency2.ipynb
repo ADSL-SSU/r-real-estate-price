{
 "cells": [
  {
   "cell_type": "code",
   "execution_count": 20,
   "metadata": {},
   "outputs": [],
   "source": [
    "import pandas as pd\n",
    "import pickle"
   ]
  },
  {
   "cell_type": "code",
   "execution_count": 21,
   "metadata": {},
   "outputs": [],
   "source": [
    "keyword1 = pd.read_pickle('../article/weekly_headline_keyword1.pkl')\n",
    "keyword2 = pd.read_pickle('../article/weekly_headline_keyword2.pkl')"
   ]
  },
  {
   "cell_type": "code",
   "execution_count": 22,
   "metadata": {},
   "outputs": [
    {
     "data": {
      "text/html": [
       "<div>\n",
       "<style scoped>\n",
       "    .dataframe tbody tr th:only-of-type {\n",
       "        vertical-align: middle;\n",
       "    }\n",
       "\n",
       "    .dataframe tbody tr th {\n",
       "        vertical-align: top;\n",
       "    }\n",
       "\n",
       "    .dataframe thead th {\n",
       "        text-align: right;\n",
       "    }\n",
       "</style>\n",
       "<table border=\"1\" class=\"dataframe\">\n",
       "  <thead>\n",
       "    <tr style=\"text-align: right;\">\n",
       "      <th></th>\n",
       "      <th>date</th>\n",
       "      <th>headline</th>\n",
       "      <th>keyword</th>\n",
       "      <th>week</th>\n",
       "    </tr>\n",
       "  </thead>\n",
       "  <tbody>\n",
       "    <tr>\n",
       "      <th>0</th>\n",
       "      <td>2006.01.01. 오후 11:23</td>\n",
       "      <td>취득세ㆍ등록세 0.5%P씩 인하</td>\n",
       "      <td>[취득세, 등록세, 05P씩, 인하]</td>\n",
       "      <td>0</td>\n",
       "    </tr>\n",
       "    <tr>\n",
       "      <th>1</th>\n",
       "      <td>2006.01.01. 오후 11:23</td>\n",
       "      <td>양도세 부담 덜자 하반기 매물 늘듯</td>\n",
       "      <td>[양도세, 부담, 덜자, 하반기, 매물, 늘듯]</td>\n",
       "      <td>0</td>\n",
       "    </tr>\n",
       "    <tr>\n",
       "      <th>2</th>\n",
       "      <td>2006.01.01. 오후 11:23</td>\n",
       "      <td>서울 대치동 57평형 보유세 651만원</td>\n",
       "      <td>[서울, 대치동, 57평형, 보유세, 651만원]</td>\n",
       "      <td>0</td>\n",
       "    </tr>\n",
       "    <tr>\n",
       "      <th>3</th>\n",
       "      <td>2006.01.01. 오후 11:23</td>\n",
       "      <td>양도세 줄이는 방법 필요경비 증빙서류 꼭 챙기자</td>\n",
       "      <td>[양도세, 줄이는, 방법, 필요경비, 증빙서류, 꼭, 챙기자]</td>\n",
       "      <td>0</td>\n",
       "    </tr>\n",
       "    <tr>\n",
       "      <th>4</th>\n",
       "      <td>2006.01.01. 오후 11:23</td>\n",
       "      <td>올해 실거래가 신고제 폭풍 이중계약서 관행 사라진다</td>\n",
       "      <td>[올해, 실거래가, 신고제, 폭풍, 이중계약서, 관행, 사라진다]</td>\n",
       "      <td>0</td>\n",
       "    </tr>\n",
       "    <tr>\n",
       "      <th>...</th>\n",
       "      <td>...</td>\n",
       "      <td>...</td>\n",
       "      <td>...</td>\n",
       "      <td>...</td>\n",
       "    </tr>\n",
       "    <tr>\n",
       "      <th>1012957</th>\n",
       "      <td>2020.12.31. 오전 3:05</td>\n",
       "      <td>부동산 100자 정보 대보건설 올해 1조105억원 수주 성공 외</td>\n",
       "      <td>[부동산, 100자, 정보, 대보건설, 올해, 1조105억원, 수주, 성공, 외]</td>\n",
       "      <td>782</td>\n",
       "    </tr>\n",
       "    <tr>\n",
       "      <th>1012958</th>\n",
       "      <td>2020.12.31. 오전 3:05</td>\n",
       "      <td>미분양 주택도 패닉바잉 17년만에 최저치</td>\n",
       "      <td>[미분양, 주택도, 패닉바잉, 17년만, 에, 최저치]</td>\n",
       "      <td>782</td>\n",
       "    </tr>\n",
       "    <tr>\n",
       "      <th>1012959</th>\n",
       "      <td>2020.12.31. 오전 3:03</td>\n",
       "      <td>집값 조사때 표본수 늘리고 실거래감정가 추가</td>\n",
       "      <td>[집값, 조사때, 표본수, 늘리고, 실거래감정가, 추가]</td>\n",
       "      <td>782</td>\n",
       "    </tr>\n",
       "    <tr>\n",
       "      <th>1012960</th>\n",
       "      <td>2020.12.31. 오전 12:32</td>\n",
       "      <td>치솟는 집값에 미분양 아파트 3년만에 최저</td>\n",
       "      <td>[치솟는, 집값에, 미분양, 아파트, 3년만, 에, 최저]</td>\n",
       "      <td>782</td>\n",
       "    </tr>\n",
       "    <tr>\n",
       "      <th>1012961</th>\n",
       "      <td>2020.12.31. 오전 12:00</td>\n",
       "      <td>반얀트리그룹의 ‘카시아’ 국내 최초 적용...프리미엄 레지던스 ‘카시아 속초’ 막바...</td>\n",
       "      <td>[반얀트리그룹, 의, 카시아, 국내, 최초, 적용프리미엄, 레지던스, 카시아, 속초...</td>\n",
       "      <td>782</td>\n",
       "    </tr>\n",
       "  </tbody>\n",
       "</table>\n",
       "<p>1012962 rows × 4 columns</p>\n",
       "</div>"
      ],
      "text/plain": [
       "                         date  \\\n",
       "0        2006.01.01. 오후 11:23   \n",
       "1        2006.01.01. 오후 11:23   \n",
       "2        2006.01.01. 오후 11:23   \n",
       "3        2006.01.01. 오후 11:23   \n",
       "4        2006.01.01. 오후 11:23   \n",
       "...                       ...   \n",
       "1012957   2020.12.31. 오전 3:05   \n",
       "1012958   2020.12.31. 오전 3:05   \n",
       "1012959   2020.12.31. 오전 3:03   \n",
       "1012960  2020.12.31. 오전 12:32   \n",
       "1012961  2020.12.31. 오전 12:00   \n",
       "\n",
       "                                                  headline  \\\n",
       "0                                        취득세ㆍ등록세 0.5%P씩 인하   \n",
       "1                                      양도세 부담 덜자 하반기 매물 늘듯   \n",
       "2                                    서울 대치동 57평형 보유세 651만원   \n",
       "3                               양도세 줄이는 방법 필요경비 증빙서류 꼭 챙기자   \n",
       "4                             올해 실거래가 신고제 폭풍 이중계약서 관행 사라진다   \n",
       "...                                                    ...   \n",
       "1012957                부동산 100자 정보 대보건설 올해 1조105억원 수주 성공 외   \n",
       "1012958                             미분양 주택도 패닉바잉 17년만에 최저치   \n",
       "1012959                           집값 조사때 표본수 늘리고 실거래감정가 추가   \n",
       "1012960                            치솟는 집값에 미분양 아파트 3년만에 최저   \n",
       "1012961  반얀트리그룹의 ‘카시아’ 국내 최초 적용...프리미엄 레지던스 ‘카시아 속초’ 막바...   \n",
       "\n",
       "                                                   keyword  week  \n",
       "0                                     [취득세, 등록세, 05P씩, 인하]     0  \n",
       "1                               [양도세, 부담, 덜자, 하반기, 매물, 늘듯]     0  \n",
       "2                              [서울, 대치동, 57평형, 보유세, 651만원]     0  \n",
       "3                       [양도세, 줄이는, 방법, 필요경비, 증빙서류, 꼭, 챙기자]     0  \n",
       "4                     [올해, 실거래가, 신고제, 폭풍, 이중계약서, 관행, 사라진다]     0  \n",
       "...                                                    ...   ...  \n",
       "1012957      [부동산, 100자, 정보, 대보건설, 올해, 1조105억원, 수주, 성공, 외]   782  \n",
       "1012958                     [미분양, 주택도, 패닉바잉, 17년만, 에, 최저치]   782  \n",
       "1012959                    [집값, 조사때, 표본수, 늘리고, 실거래감정가, 추가]   782  \n",
       "1012960                   [치솟는, 집값에, 미분양, 아파트, 3년만, 에, 최저]   782  \n",
       "1012961  [반얀트리그룹, 의, 카시아, 국내, 최초, 적용프리미엄, 레지던스, 카시아, 속초...   782  \n",
       "\n",
       "[1012962 rows x 4 columns]"
      ]
     },
     "execution_count": 22,
     "metadata": {},
     "output_type": "execute_result"
    }
   ],
   "source": [
    "keyword = pd.concat([keyword1,keyword2], ignore_index = False)\n",
    "keyword"
   ]
  },
  {
   "cell_type": "code",
   "execution_count": 25,
   "metadata": {},
   "outputs": [],
   "source": [
    "weekly_keyword = keyword.groupby(['week']).sum()['keyword']"
   ]
  },
  {
   "cell_type": "code",
   "execution_count": 30,
   "metadata": {},
   "outputs": [],
   "source": [
    "weekly_keyword = keyword.groupby(['week']).sum()['keyword']\n",
    "string_list = []\n",
    "for i in weekly_keyword.index:\n",
    "    string = ' '\n",
    "    for term in weekly_keyword[i]:\n",
    "        string = string + term + ' '\n",
    "    string_list.append(string)\n",
    "weekly_keyword['string'] = string_list"
   ]
  },
  {
   "cell_type": "markdown",
   "metadata": {},
   "source": [
    "## 분석방법\n",
    "1. case별 단어들에 대한 TF-IDF(a)를 구한다.\n",
    "2. 전체 단어들에 대한 TF-IDF(b)를 구한다.\n",
    "3. 두 값을 비교하여 특정 case내에서 저 중요하게 쓰이는(a > b) 단어를 찾아낸다."
   ]
  },
  {
   "cell_type": "code",
   "execution_count": 31,
   "metadata": {},
   "outputs": [],
   "source": [
    "from sklearn.feature_extraction.text import TfidfVectorizer"
   ]
  },
  {
   "cell_type": "code",
   "execution_count": 32,
   "metadata": {},
   "outputs": [],
   "source": [
    "vectorizer = TfidfVectorizer()\n",
    "X = vectorizer.fit_transform(string_list)"
   ]
  },
  {
   "cell_type": "code",
   "execution_count": 33,
   "metadata": {},
   "outputs": [
    {
     "name": "stderr",
     "output_type": "stream",
     "text": [
      "IOPub data rate exceeded.\n",
      "The notebook server will temporarily stop sending output\n",
      "to the client in order to avoid crashing it.\n",
      "To change this limit, set the config variable\n",
      "`--NotebookApp.iopub_data_rate_limit`.\n",
      "\n",
      "Current values:\n",
      "NotebookApp.iopub_data_rate_limit=1000000.0 (bytes/sec)\n",
      "NotebookApp.rate_limit_window=3.0 (secs)\n",
      "\n"
     ]
    }
   ],
   "source": [
    "print(vectorizer.get_feature_names())"
   ]
  },
  {
   "cell_type": "code",
   "execution_count": 34,
   "metadata": {},
   "outputs": [
    {
     "name": "stdout",
     "output_type": "stream",
     "text": [
      "(783, 505018)\n"
     ]
    }
   ],
   "source": [
    "print(X.shape)"
   ]
  },
  {
   "cell_type": "code",
   "execution_count": null,
   "metadata": {},
   "outputs": [],
   "source": []
  }
 ],
 "metadata": {
  "kernelspec": {
   "display_name": "Python 3",
   "language": "python",
   "name": "python3"
  },
  "language_info": {
   "codemirror_mode": {
    "name": "ipython",
    "version": 3
   },
   "file_extension": ".py",
   "mimetype": "text/x-python",
   "name": "python",
   "nbconvert_exporter": "python",
   "pygments_lexer": "ipython3",
   "version": "3.8.5"
  }
 },
 "nbformat": 4,
 "nbformat_minor": 4
}
