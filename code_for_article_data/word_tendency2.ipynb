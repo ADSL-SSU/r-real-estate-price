{
 "cells": [
  {
   "cell_type": "code",
   "execution_count": 4,
   "metadata": {},
   "outputs": [],
   "source": [
    "import pandas as pd\n",
    "import pickle"
   ]
  },
  {
   "cell_type": "code",
   "execution_count": 5,
   "metadata": {},
   "outputs": [],
   "source": [
    "keyword = pd.read_pickle('../article/weekly_headline_keyword.pkl')"
   ]
  },
  {
   "cell_type": "code",
   "execution_count": 6,
   "metadata": {},
   "outputs": [],
   "source": [
    "weekly_keyword = keyword.groupby(['week']).sum()"
   ]
  },
  {
   "cell_type": "code",
   "execution_count": 7,
   "metadata": {},
   "outputs": [],
   "source": [
    "weekly_keyword = weekly_keyword.iloc[:,2]"
   ]
  },
  {
   "cell_type": "code",
   "execution_count": 8,
   "metadata": {},
   "outputs": [
    {
     "data": {
      "text/plain": [
       "week\n",
       "0      [취득세, 등록세, 05P씩, 인하, 양도세, 부담, 덜자, 하반기, 매물, 늘듯,...\n",
       "1      [강남, 집값, 연초부터, 들썩, 압구정, 최고, 1억, 급등, 20평이상, 재개발...\n",
       "2      [한국, 부동산, 투자, DMZ, 인근, 확산, NYT, 건설업, 풍향계, 일산엠스...\n",
       "3      [재건축, 임대, 40평형대, 첫선, 정부, 지자체, 재건축, 승인권, 일부환수, ...\n",
       "4      [고양, 풍동, 근린상가, 일산에이스타워, 분양, 신촌동, 테마쇼핑몰, 신촌밀리오레...\n",
       "                             ...                        \n",
       "778    [정부, 가, 판, 깔아줬다, 다주택자, 지방, 1억, 아파트, 원정대, 떴다, 1...\n",
       "779    [서울, 강남, 집값, 다시, 강세전세품귀에, 외곽, 매수세, 저금리쏟아진, 규제책...\n",
       "780    [부, 린이, 가이드, 집만, 사는, 대신, 절반, 가격, 토지임대부, 주택이, 뭔...\n",
       "781    [전국, 절반, 이, 규제, 사정권에, 아산양산, 은, 벌써, 풍선효과, 무주택, ...\n",
       "782    [올해, 집값, 14년만, 에, 최고, 상승, 세종시, 아파트, 매매가, 폭등, 올...\n",
       "Name: keyword, Length: 783, dtype: object"
      ]
     },
     "execution_count": 8,
     "metadata": {},
     "output_type": "execute_result"
    }
   ],
   "source": [
    "weekly_keyword"
   ]
  },
  {
   "cell_type": "code",
   "execution_count": 9,
   "metadata": {},
   "outputs": [],
   "source": [
    "weekly_dic_all = {}\n",
    "for idx in weekly_keyword.index:\n",
    "    dic = {}\n",
    "    for keyword in weekly_keyword[idx]:\n",
    "        if keyword not in dic.keys():\n",
    "            dic[keyword] = 1\n",
    "        else:\n",
    "            dic[keyword] += 1\n",
    "    weekly_dic_all[idx] = dic"
   ]
  },
  {
   "cell_type": "code",
   "execution_count": null,
   "metadata": {},
   "outputs": [],
   "source": [
    "weekly_df_all = pd.DataFrame(weekly_dic_all)\n",
    "weekly_df_all"
   ]
  },
  {
   "cell_type": "code",
   "execution_count": null,
   "metadata": {},
   "outputs": [],
   "source": [
    "weekly_df_all = weekly_df_all.transpose()\n",
    "weekly_df_all"
   ]
  },
  {
   "cell_type": "code",
   "execution_count": null,
   "metadata": {},
   "outputs": [],
   "source": [
    "total_all = weekly_df_all.sum()\n",
    "total_all"
   ]
  },
  {
   "cell_type": "markdown",
   "metadata": {},
   "source": [
    "## 분석방법\n",
    "1. case별 단어들에 대한 TF-IDF(a)를 구한다.\n",
    "2. 전체 단어들에 대한 TF-IDF(b)를 구한다.\n",
    "3. 두 값을 비교하여 특정 case내에서 저 중요하게 쓰이는(a > b) 단어를 찾아낸다."
   ]
  },
  {
   "cell_type": "code",
   "execution_count": null,
   "metadata": {},
   "outputs": [],
   "source": []
  }
 ],
 "metadata": {
  "kernelspec": {
   "display_name": "Python 3",
   "language": "python",
   "name": "python3"
  },
  "language_info": {
   "codemirror_mode": {
    "name": "ipython",
    "version": 3
   },
   "file_extension": ".py",
   "mimetype": "text/x-python",
   "name": "python",
   "nbconvert_exporter": "python",
   "pygments_lexer": "ipython3",
   "version": "3.8.5"
  }
 },
 "nbformat": 4,
 "nbformat_minor": 4
}
