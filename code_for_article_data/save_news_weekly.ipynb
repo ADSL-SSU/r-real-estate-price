{
 "cells": [
  {
   "cell_type": "code",
   "execution_count": 1,
   "metadata": {},
   "outputs": [],
   "source": [
    "def make_date(year,month):\n",
    "    date = ''\n",
    "    if month < 10:\n",
    "        date = str(year) + '0' + str(month)\n",
    "    else: \n",
    "        date = str(year) + str(month)\n",
    "    return date"
   ]
  },
  {
   "cell_type": "code",
   "execution_count": 2,
   "metadata": {},
   "outputs": [],
   "source": [
    "import pandas as pd\n",
    "import datetime\n",
    "\n",
    "read_path = '../article/'\n",
    "column_name = ['date','cat','co','headline','text','url']\n",
    "\n",
    "total_df = pd.DataFrame({\n",
    "    'date' : [],\n",
    "    'cat' : [],\n",
    "    'co' : [],\n",
    "    'headline' : [],\n",
    "    'text' : [],\n",
    "    'url' : [],\n",
    "})\n",
    "\n",
    "start_date = datetime.date(2006,1,1)\n",
    "\n",
    "for year in range(2006,2021):\n",
    "    for month in range(1,13):\n",
    "        date = make_date(year,month)\n",
    "        article = pd.read_csv(f'{read_path}Article_부동산_{date}_{date}.csv', names = column_name, encoding = 'cp949')\n",
    "        total_df = pd.concat([total_df,article], ignore_index=True)\n",
    "        \n",
    "total_df['week'] = [(datetime.date((int)(date[:4]),(int)(date[5:7]),(int)(date[8:10]))-start_date).days//7 for date in total_df['date']]"
   ]
  },
  {
   "cell_type": "code",
   "execution_count": 3,
   "metadata": {},
   "outputs": [],
   "source": [
    "write_path = '../article/weekly_article/'\n",
    "\n",
    "total_df['week'] = total_df['week'].astype(int)\n",
    "for week in range(783):\n",
    "    df = total_df[total_df['week'] == week]\n",
    "    df.to_csv(f'{write_path}article_week{week}.csv', encoding='cp949')"
   ]
  },
  {
   "cell_type": "code",
   "execution_count": null,
   "metadata": {},
   "outputs": [],
   "source": []
  }
 ],
 "metadata": {
  "kernelspec": {
   "display_name": "Python 3",
   "language": "python",
   "name": "python3"
  },
  "language_info": {
   "codemirror_mode": {
    "name": "ipython",
    "version": 3
   },
   "file_extension": ".py",
   "mimetype": "text/x-python",
   "name": "python",
   "nbconvert_exporter": "python",
   "pygments_lexer": "ipython3",
   "version": "3.8.5"
  }
 },
 "nbformat": 4,
 "nbformat_minor": 4
}
