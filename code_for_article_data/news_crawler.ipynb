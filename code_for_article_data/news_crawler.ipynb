{
 "cells": [
  {
   "cell_type": "code",
   "execution_count": null,
   "metadata": {},
   "outputs": [],
   "source": [
    "from korea_news_crawler.articlecrawler import ArticleCrawler\n",
    "\n",
    "Crawler = ArticleCrawler()  \n",
    "Crawler.categories['부동산'] = 260\n",
    "\n",
    "Crawler.set_category(\"부동산\")  \n",
    "\n",
    "\n",
    "for month in range(1,7):\n",
    "    Crawler.set_date_range(2021, month, 2021, month)\n",
    "    Crawler.start()\n",
    "    print(month)\n"
   ]
  },
  {
   "cell_type": "code",
   "execution_count": null,
   "metadata": {},
   "outputs": [],
   "source": [
    "import pandas as pd\n",
    "import pickle\n",
    "import glob\n",
    "import datetime\n",
    "\n",
    "read_file = glob.glob('../output/*')\n",
    "column_name = ['date','cat','co','headline','text','url']\n",
    "\n",
    "total_df = pd.DataFrame({\n",
    "    'date' : [],\n",
    "    'cat' : [],\n",
    "    'co' : [],\n",
    "    'headline' : [],\n",
    "    'text' : [],\n",
    "    'url' : [],\n",
    "})\n",
    "\n",
    "start_date = datetime.date(2006,1,1)\n",
    "\n",
    "article_df = []\n",
    "for file in read_file:\n",
    "    df = pd.read_csv(file, names = column_name, encoding = 'cp949')\n",
    "    article_df.append(df)\n",
    "\n",
    "total_df = pd.concat(article_df, ignore_index=True)\n",
    "        \n",
    "total_df['week'] = [(datetime.date((int)(date[:4]),(int)(date[5:7]),(int)(date[8:10]))-start_date).days//7 for date in total_df['date']]"
   ]
  },
  {
   "cell_type": "code",
   "execution_count": null,
   "metadata": {},
   "outputs": [],
   "source": [
    "del total_df['text']\n",
    "del total_df['url']\n",
    "del total_df['cat']"
   ]
  },
  {
   "cell_type": "code",
   "execution_count": null,
   "metadata": {},
   "outputs": [],
   "source": [
    "total_df"
   ]
  },
  {
   "cell_type": "code",
   "execution_count": null,
   "metadata": {},
   "outputs": [],
   "source": [
    "from konlpy.tag import Mecab \n",
    "model = Mecab(dicpath=r\"C:\\mecab\\mecab-ko-dic\")"
   ]
  },
  {
   "cell_type": "code",
   "execution_count": null,
   "metadata": {},
   "outputs": [],
   "source": [
    "write_path = '../article/'\n",
    "\n",
    "df = pd.DataFrame({\n",
    "    'date' : total_df['date'],\n",
    "    'co' : total_df['co'],\n",
    "    'headline' : total_df['headline'],\n",
    "    'week' : total_df['week'],\n",
    "    'pos' : [model.nouns(headline) for headline in total_df['headline']]\n",
    "})"
   ]
  },
  {
   "cell_type": "code",
   "execution_count": null,
   "metadata": {},
   "outputs": [],
   "source": [
    "keyword3 = pd.read_pickle('../article/headline_noun_keyword3.pkl')"
   ]
  },
  {
   "cell_type": "code",
   "execution_count": null,
   "metadata": {},
   "outputs": [],
   "source": [
    "keyword3 = pd.concat([keyword3,df], ignore_index = True)"
   ]
  },
  {
   "cell_type": "code",
   "execution_count": null,
   "metadata": {},
   "outputs": [],
   "source": [
    "keyword3.to_pickle('../article/headline_noun_keyword3.pkl')"
   ]
  }
 ],
 "metadata": {
  "kernelspec": {
   "display_name": "Python 3",
   "language": "python",
   "name": "python3"
  },
  "language_info": {
   "codemirror_mode": {
    "name": "ipython",
    "version": 3
   },
   "file_extension": ".py",
   "mimetype": "text/x-python",
   "name": "python",
   "nbconvert_exporter": "python",
   "pygments_lexer": "ipython3",
   "version": "3.8.5"
  }
 },
 "nbformat": 4,
 "nbformat_minor": 4
}
