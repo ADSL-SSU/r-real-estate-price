{
 "cells": [
  {
   "cell_type": "code",
   "execution_count": 28,
   "metadata": {},
   "outputs": [],
   "source": [
    "def make_date(year,month):\n",
    "    date = ''\n",
    "    if month < 10:\n",
    "        date = str(year) + '0' + str(month)\n",
    "    else: \n",
    "        date = str(year) + str(month)\n",
    "    return date"
   ]
  },
  {
   "cell_type": "code",
   "execution_count": 29,
   "metadata": {},
   "outputs": [],
   "source": [
    "import pandas as pd\n",
    "\n",
    "read_path = '../article/'\n",
    "column_name = ['date','co','headline','text','url']\n",
    "article = []\n",
    "\n",
    "for year in range(2006,2021):\n",
    "    for month in range(1,13):\n",
    "        date = make_date(year,month)\n",
    "        article.append(pd.read_csv(f'{read_path}Article_부동산_{date}_{date}.csv', names = column_name, encoding = 'cp949'))"
   ]
  },
  {
   "cell_type": "code",
   "execution_count": 37,
   "metadata": {},
   "outputs": [
    {
     "name": "stdout",
     "output_type": "stream",
     "text": [
      "['취득세', '취득세ㆍ등록세', 'ㆍ', '등록세', '0.5']\n",
      "[('취득세', 'NNG'), ('ㆍ', 'UN'), ('등록세', 'NNG'), ('0.5', 'NR'), ('%', 'SW'), ('P', 'OL'), ('씩', 'MAG'), ('인하', 'VV')]\n"
     ]
    }
   ],
   "source": [
    "from konlpy.tag import Kkma\n",
    "\n",
    "Kkma = Kkma()\n",
    "print(Kkma.nouns(article[0]['headline'][0]))\n",
    "print(Kkma.pos(article[0]['headline'][0]))"
   ]
  },
  {
   "cell_type": "code",
   "execution_count": null,
   "metadata": {},
   "outputs": [],
   "source": []
  }
 ],
 "metadata": {
  "kernelspec": {
   "display_name": "Python 3",
   "language": "python",
   "name": "python3"
  },
  "language_info": {
   "codemirror_mode": {
    "name": "ipython",
    "version": 3
   },
   "file_extension": ".py",
   "mimetype": "text/x-python",
   "name": "python",
   "nbconvert_exporter": "python",
   "pygments_lexer": "ipython3",
   "version": "3.8.5"
  }
 },
 "nbformat": 4,
 "nbformat_minor": 4
}
