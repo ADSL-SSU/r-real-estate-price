{
 "cells": [
  {
   "cell_type": "code",
   "execution_count": 110,
   "metadata": {},
   "outputs": [],
   "source": [
    "import pandas as pd\n",
    "import matplotlib.pyplot as plt"
   ]
  },
  {
   "cell_type": "code",
   "execution_count": 111,
   "metadata": {},
   "outputs": [],
   "source": [
    "read_path = '../article/weekly_article/'\n",
    "\n",
    "article_df = pd.read_csv(f\"{read_path}article_week0.csv\", encoding = 'cp949')\n",
    "for i in range(1,783):\n",
    "    df = pd.read_csv(f\"{read_path}article_week{i}.csv\", encoding = 'cp949')\n",
    "    article_df = pd.concat([article_df,df], ignore_index = True)"
   ]
  },
  {
   "cell_type": "code",
   "execution_count": 112,
   "metadata": {},
   "outputs": [],
   "source": [
    "company_list = list(set(article_df['co']))"
   ]
  },
  {
   "cell_type": "code",
   "execution_count": 113,
   "metadata": {},
   "outputs": [],
   "source": [
    "company_article_list = {}\n",
    "\n",
    "for company in company_list:\n",
    "    df = article_df[article_df['co'] == company]\n",
    "    if len(list(set(df['week']))) == 783:\n",
    "        company_article_list[company] = df"
   ]
  },
  {
   "cell_type": "code",
   "execution_count": 114,
   "metadata": {},
   "outputs": [
    {
     "data": {
      "text/plain": [
       "(6, 83)"
      ]
     },
     "execution_count": 114,
     "metadata": {},
     "output_type": "execute_result"
    }
   ],
   "source": [
    "len(company_article_list), len(company_list)"
   ]
  },
  {
   "cell_type": "code",
   "execution_count": 115,
   "metadata": {},
   "outputs": [],
   "source": [
    "import matplotlib.font_manager as fm\n",
    "\n",
    "path = '/mnt/c/Windows/Fonts/malgun.ttf'\n",
    "fontprop = fm.FontProperties(fname=path, size=18)"
   ]
  },
  {
   "cell_type": "code",
   "execution_count": null,
   "metadata": {},
   "outputs": [],
   "source": []
  }
 ],
 "metadata": {
  "kernelspec": {
   "display_name": "Python 3",
   "language": "python",
   "name": "python3"
  },
  "language_info": {
   "codemirror_mode": {
    "name": "ipython",
    "version": 3
   },
   "file_extension": ".py",
   "mimetype": "text/x-python",
   "name": "python",
   "nbconvert_exporter": "python",
   "pygments_lexer": "ipython3",
   "version": "3.8.5"
  }
 },
 "nbformat": 4,
 "nbformat_minor": 4
}
