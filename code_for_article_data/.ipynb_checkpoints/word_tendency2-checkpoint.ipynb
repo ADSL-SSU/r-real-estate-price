{
 "cells": [
  {
   "cell_type": "code",
   "execution_count": 4,
   "metadata": {},
   "outputs": [],
   "source": [
    "import pandas as pd\n",
    "import pickle"
   ]
  },
  {
   "cell_type": "code",
   "execution_count": 5,
   "metadata": {},
   "outputs": [],
   "source": [
    "keyword = pd.read_pickle('../article/weekly_headline_keyword.pkl')"
   ]
  },
  {
   "cell_type": "code",
   "execution_count": null,
   "metadata": {},
   "outputs": [],
   "source": [
    "weekly_keyword = keyword.groupby(['week']).sum()"
   ]
  },
  {
   "cell_type": "code",
   "execution_count": null,
   "metadata": {},
   "outputs": [],
   "source": [
    "weekly_keyword = weekly_keyword.iloc[:,2]"
   ]
  },
  {
   "cell_type": "code",
   "execution_count": null,
   "metadata": {},
   "outputs": [],
   "source": [
    "weekly_keyword"
   ]
  },
  {
   "cell_type": "code",
   "execution_count": null,
   "metadata": {},
   "outputs": [],
   "source": [
    "weekly_dic_all = {}\n",
    "for idx in weekly_keyword.index:\n",
    "    dic = {}\n",
    "    for keyword in weekly_keyword[idx]:\n",
    "        if keyword not in dic.keys():\n",
    "            dic[keyword] = 1\n",
    "        else:\n",
    "            dic[keyword] += 1\n",
    "    weekly_dic_all[idx] = dic"
   ]
  },
  {
   "cell_type": "code",
   "execution_count": null,
   "metadata": {},
   "outputs": [],
   "source": [
    "weekly_df_all = pd.DataFrame(weekly_dic_all)\n",
    "weekly_df_all"
   ]
  },
  {
   "cell_type": "code",
   "execution_count": null,
   "metadata": {},
   "outputs": [],
   "source": [
    "weekly_df_all = weekly_df_all.transpose()\n",
    "weekly_df_all"
   ]
  },
  {
   "cell_type": "code",
   "execution_count": null,
   "metadata": {},
   "outputs": [],
   "source": [
    "total_all = weekly_df_all.sum()\n",
    "total_all"
   ]
  },
  {
   "cell_type": "markdown",
   "metadata": {},
   "source": [
    "## 분석방법\n",
    "1. case별 단어들에 대한 TF-IDF(a)를 구한다.\n",
    "2. 전체 단어들에 대한 TF-IDF(b)를 구한다.\n",
    "3. 두 값을 비교하여 특정 case내에서 저 중요하게 쓰이는(a > b) 단어를 찾아낸다."
   ]
  },
  {
   "cell_type": "code",
   "execution_count": null,
   "metadata": {},
   "outputs": [],
   "source": []
  }
 ],
 "metadata": {
  "kernelspec": {
   "display_name": "Python 3",
   "language": "python",
   "name": "python3"
  },
  "language_info": {
   "codemirror_mode": {
    "name": "ipython",
    "version": 3
   },
   "file_extension": ".py",
   "mimetype": "text/x-python",
   "name": "python",
   "nbconvert_exporter": "python",
   "pygments_lexer": "ipython3",
   "version": "3.8.5"
  }
 },
 "nbformat": 4,
 "nbformat_minor": 4
}
