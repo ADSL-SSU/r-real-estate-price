{
 "cells": [
  {
   "cell_type": "code",
   "execution_count": 1,
   "id": "c8b022bb",
   "metadata": {},
   "outputs": [],
   "source": [
    "def string_to_list(keyword_str):\n",
    "    result = []\n",
    "    keyword_str = keyword_str.replace('[','')\n",
    "    keyword_str = keyword_str.replace(']','')\n",
    "    keyword_str = keyword_str.replace('(','')\n",
    "    keyword_str = keyword_str.replace(')','')\n",
    "    keyword_str = keyword_str.replace(\"'\",'')\n",
    "    keyword_str = keyword_str.replace('\"\"','')\n",
    "    keyword_list = keyword_str.split(',')\n",
    "    for i in range(0,len(keyword_list),2):\n",
    "        result.append(keyword_list[i:i+2])\n",
    "    return result"
   ]
  },
  {
   "cell_type": "code",
   "execution_count": 2,
   "id": "616e3c89",
   "metadata": {},
   "outputs": [],
   "source": [
    "import pandas as pd\n",
    "\n",
    "read_path = '../article/headline_keyword/'\n",
    "\n",
    "all_article = pd.read_csv(f'{read_path}weekly_headline_keyword.csv')"
   ]
  },
  {
   "cell_type": "code",
   "execution_count": 3,
   "id": "98827b3c",
   "metadata": {},
   "outputs": [
    {
     "data": {
      "text/html": [
       "<div>\n",
       "<style scoped>\n",
       "    .dataframe tbody tr th:only-of-type {\n",
       "        vertical-align: middle;\n",
       "    }\n",
       "\n",
       "    .dataframe tbody tr th {\n",
       "        vertical-align: top;\n",
       "    }\n",
       "\n",
       "    .dataframe thead th {\n",
       "        text-align: right;\n",
       "    }\n",
       "</style>\n",
       "<table border=\"1\" class=\"dataframe\">\n",
       "  <thead>\n",
       "    <tr style=\"text-align: right;\">\n",
       "      <th></th>\n",
       "      <th>Unnamed: 0</th>\n",
       "      <th>date</th>\n",
       "      <th>headline</th>\n",
       "      <th>keyword</th>\n",
       "      <th>Unnamed: 0.1</th>\n",
       "      <th>week</th>\n",
       "    </tr>\n",
       "  </thead>\n",
       "  <tbody>\n",
       "    <tr>\n",
       "      <th>0</th>\n",
       "      <td>0</td>\n",
       "      <td>2006.01.01. 오후 11:23</td>\n",
       "      <td>취득세ㆍ등록세 0.5%P씩 인하</td>\n",
       "      <td>[['취득세', ' CIVILIZATION'], [' ㆍ', ' O'], [' 등록...</td>\n",
       "      <td>0.0</td>\n",
       "      <td>0</td>\n",
       "    </tr>\n",
       "    <tr>\n",
       "      <th>1</th>\n",
       "      <td>1</td>\n",
       "      <td>2006.01.01. 오후 11:23</td>\n",
       "      <td>양도세 부담 덜자 하반기 매물 늘듯</td>\n",
       "      <td>[['양도세', ' CIVILIZATION'], ['  ', ' O'], [' 부담...</td>\n",
       "      <td>1.0</td>\n",
       "      <td>0</td>\n",
       "    </tr>\n",
       "    <tr>\n",
       "      <th>2</th>\n",
       "      <td>2</td>\n",
       "      <td>2006.01.01. 오후 11:23</td>\n",
       "      <td>서울 대치동 57평형 보유세 651만원</td>\n",
       "      <td>[['서울', ' CITY'], ['  ', ' O'], [' 대치동', ' LOC...</td>\n",
       "      <td>2.0</td>\n",
       "      <td>0</td>\n",
       "    </tr>\n",
       "    <tr>\n",
       "      <th>3</th>\n",
       "      <td>3</td>\n",
       "      <td>2006.01.01. 오후 11:23</td>\n",
       "      <td>양도세 줄이는 방법 필요경비 증빙서류 꼭 챙기자</td>\n",
       "      <td>[['양도세', ' CIVILIZATION'], ['  ', ' O'], [' 줄이...</td>\n",
       "      <td>3.0</td>\n",
       "      <td>0</td>\n",
       "    </tr>\n",
       "    <tr>\n",
       "      <th>4</th>\n",
       "      <td>4</td>\n",
       "      <td>2006.01.01. 오후 11:23</td>\n",
       "      <td>올해 실거래가 신고제 폭풍 이중계약서 관행 사라진다</td>\n",
       "      <td>[['올해', ' DATE'], ['  ', ' O'], [' 실거래가', ' CI...</td>\n",
       "      <td>4.0</td>\n",
       "      <td>0</td>\n",
       "    </tr>\n",
       "    <tr>\n",
       "      <th>...</th>\n",
       "      <td>...</td>\n",
       "      <td>...</td>\n",
       "      <td>...</td>\n",
       "      <td>...</td>\n",
       "      <td>...</td>\n",
       "      <td>...</td>\n",
       "    </tr>\n",
       "    <tr>\n",
       "      <th>1012957</th>\n",
       "      <td>1012957</td>\n",
       "      <td>2020.12.31. 오전 3:05</td>\n",
       "      <td>부동산 100자 정보 대보건설 올해 1조105억원 수주 성공 외</td>\n",
       "      <td>[['부동산', ' O'], ['  ', ' O'], [' 100자', ' QUAN...</td>\n",
       "      <td>1486.0</td>\n",
       "      <td>782</td>\n",
       "    </tr>\n",
       "    <tr>\n",
       "      <th>1012958</th>\n",
       "      <td>1012958</td>\n",
       "      <td>2020.12.31. 오전 3:05</td>\n",
       "      <td>미분양 주택도 패닉바잉 17년만에 최저치</td>\n",
       "      <td>[['미분양', ' O'], ['  ', ' O'], [' 주택도', ' O'], ...</td>\n",
       "      <td>1487.0</td>\n",
       "      <td>782</td>\n",
       "    </tr>\n",
       "    <tr>\n",
       "      <th>1012959</th>\n",
       "      <td>1012959</td>\n",
       "      <td>2020.12.31. 오전 3:03</td>\n",
       "      <td>집값 조사때 표본수 늘리고 실거래감정가 추가</td>\n",
       "      <td>[['집값', ' O'], ['  ', ' O'], [' 조사때', ' O'], [...</td>\n",
       "      <td>1488.0</td>\n",
       "      <td>782</td>\n",
       "    </tr>\n",
       "    <tr>\n",
       "      <th>1012960</th>\n",
       "      <td>1012960</td>\n",
       "      <td>2020.12.31. 오전 12:32</td>\n",
       "      <td>치솟는 집값에 미분양 아파트 3년만에 최저</td>\n",
       "      <td>[['치솟는', ' O'], ['  ', ' O'], [' 집값에', ' O'], ...</td>\n",
       "      <td>1489.0</td>\n",
       "      <td>782</td>\n",
       "    </tr>\n",
       "    <tr>\n",
       "      <th>1012961</th>\n",
       "      <td>1012961</td>\n",
       "      <td>2020.12.31. 오전 12:00</td>\n",
       "      <td>반얀트리그룹의 ‘카시아’ 국내 최초 적용...프리미엄 레지던스 ‘카시아 속초’ 막바...</td>\n",
       "      <td>[['반얀트리그룹', ' ORGANIZATION'], [' 의', ' O'], ['...</td>\n",
       "      <td>1490.0</td>\n",
       "      <td>782</td>\n",
       "    </tr>\n",
       "  </tbody>\n",
       "</table>\n",
       "<p>1012962 rows × 6 columns</p>\n",
       "</div>"
      ],
      "text/plain": [
       "         Unnamed: 0                  date  \\\n",
       "0                 0  2006.01.01. 오후 11:23   \n",
       "1                 1  2006.01.01. 오후 11:23   \n",
       "2                 2  2006.01.01. 오후 11:23   \n",
       "3                 3  2006.01.01. 오후 11:23   \n",
       "4                 4  2006.01.01. 오후 11:23   \n",
       "...             ...                   ...   \n",
       "1012957     1012957   2020.12.31. 오전 3:05   \n",
       "1012958     1012958   2020.12.31. 오전 3:05   \n",
       "1012959     1012959   2020.12.31. 오전 3:03   \n",
       "1012960     1012960  2020.12.31. 오전 12:32   \n",
       "1012961     1012961  2020.12.31. 오전 12:00   \n",
       "\n",
       "                                                  headline  \\\n",
       "0                                        취득세ㆍ등록세 0.5%P씩 인하   \n",
       "1                                      양도세 부담 덜자 하반기 매물 늘듯   \n",
       "2                                    서울 대치동 57평형 보유세 651만원   \n",
       "3                               양도세 줄이는 방법 필요경비 증빙서류 꼭 챙기자   \n",
       "4                             올해 실거래가 신고제 폭풍 이중계약서 관행 사라진다   \n",
       "...                                                    ...   \n",
       "1012957                부동산 100자 정보 대보건설 올해 1조105억원 수주 성공 외   \n",
       "1012958                             미분양 주택도 패닉바잉 17년만에 최저치   \n",
       "1012959                           집값 조사때 표본수 늘리고 실거래감정가 추가   \n",
       "1012960                            치솟는 집값에 미분양 아파트 3년만에 최저   \n",
       "1012961  반얀트리그룹의 ‘카시아’ 국내 최초 적용...프리미엄 레지던스 ‘카시아 속초’ 막바...   \n",
       "\n",
       "                                                   keyword  Unnamed: 0.1  week  \n",
       "0        [['취득세', ' CIVILIZATION'], [' ㆍ', ' O'], [' 등록...           0.0     0  \n",
       "1        [['양도세', ' CIVILIZATION'], ['  ', ' O'], [' 부담...           1.0     0  \n",
       "2        [['서울', ' CITY'], ['  ', ' O'], [' 대치동', ' LOC...           2.0     0  \n",
       "3        [['양도세', ' CIVILIZATION'], ['  ', ' O'], [' 줄이...           3.0     0  \n",
       "4        [['올해', ' DATE'], ['  ', ' O'], [' 실거래가', ' CI...           4.0     0  \n",
       "...                                                    ...           ...   ...  \n",
       "1012957  [['부동산', ' O'], ['  ', ' O'], [' 100자', ' QUAN...        1486.0   782  \n",
       "1012958  [['미분양', ' O'], ['  ', ' O'], [' 주택도', ' O'], ...        1487.0   782  \n",
       "1012959  [['집값', ' O'], ['  ', ' O'], [' 조사때', ' O'], [...        1488.0   782  \n",
       "1012960  [['치솟는', ' O'], ['  ', ' O'], [' 집값에', ' O'], ...        1489.0   782  \n",
       "1012961  [['반얀트리그룹', ' ORGANIZATION'], [' 의', ' O'], ['...        1490.0   782  \n",
       "\n",
       "[1012962 rows x 6 columns]"
      ]
     },
     "execution_count": 3,
     "metadata": {},
     "output_type": "execute_result"
    }
   ],
   "source": [
    "all_article"
   ]
  },
  {
   "cell_type": "code",
   "execution_count": 4,
   "id": "e94fcbac",
   "metadata": {},
   "outputs": [],
   "source": [
    "from pororo import Pororo\n",
    "ner = Pororo(task=\"ner\", lang=\"ko\")"
   ]
  },
  {
   "cell_type": "code",
   "execution_count": 5,
   "id": "01524e90",
   "metadata": {},
   "outputs": [],
   "source": [
    "stopwords = ['의','가','이','은','들','는','좀','잘','걍','과','도','를','으로','자','에','와','한','하다', '', '·', 'ㆍ']"
   ]
  },
  {
   "cell_type": "code",
   "execution_count": 6,
   "id": "d489bd59",
   "metadata": {},
   "outputs": [],
   "source": [
    "tokenized_data = []\n",
    "for keyword in all_article['keyword']:\n",
    "    keyword = string_to_list(keyword)\n",
    "    keyword = [word[0].replace(' ','') for word in keyword if not word[0].replace(' ','') in stopwords]\n",
    "    tokenized_data.append(keyword)"
   ]
  },
  {
   "cell_type": "code",
   "execution_count": null,
   "id": "3a2bb1bd",
   "metadata": {},
   "outputs": [
    {
     "name": "stderr",
     "output_type": "stream",
     "text": [
      "/home/yuyounggyu/.local/lib/python3.8/site-packages/gensim/similarities/__init__.py:15: UserWarning: The gensim.similarities.levenshtein submodule is disabled, because the optional Levenshtein package <https://pypi.org/project/python-Levenshtein/> is unavailable. Install Levenhstein (e.g. `pip install python-Levenshtein`) to suppress this warning.\n",
      "  warnings.warn(msg)\n"
     ]
    }
   ],
   "source": [
    "from gensim.models import Word2Vec\n",
    "\n",
    "model = Word2Vec(sentences = tokenized_data, window = 5, min_count = 5, workers = 4, sg = 1)"
   ]
  },
  {
   "cell_type": "code",
   "execution_count": null,
   "id": "e3af957e",
   "metadata": {},
   "outputs": [],
   "source": [
    "model.wv.vectors.shape"
   ]
  },
  {
   "cell_type": "code",
   "execution_count": null,
   "id": "c5b3bba0",
   "metadata": {},
   "outputs": [],
   "source": [
    "[i[0] for i in model.wv.most_similar(\"하락\")]"
   ]
  },
  {
   "cell_type": "code",
   "execution_count": null,
   "id": "35119ed3",
   "metadata": {},
   "outputs": [],
   "source": [
    "[i[0] for i in model.wv.most_similar(\"상승\")]"
   ]
  },
  {
   "cell_type": "code",
   "execution_count": null,
   "id": "02d8852b",
   "metadata": {},
   "outputs": [],
   "source": [
    "[i[0] for i in model.wv.most_similar(\"보합\")]"
   ]
  },
  {
   "cell_type": "code",
   "execution_count": null,
   "id": "5d1d12a6",
   "metadata": {},
   "outputs": [],
   "source": [
    "print(model.wv.most_similar(\"서울\"))"
   ]
  },
  {
   "cell_type": "code",
   "execution_count": null,
   "id": "420a7b2e",
   "metadata": {},
   "outputs": [],
   "source": []
  }
 ],
 "metadata": {
  "kernelspec": {
   "display_name": "Python 3",
   "language": "python",
   "name": "python3"
  },
  "language_info": {
   "codemirror_mode": {
    "name": "ipython",
    "version": 3
   },
   "file_extension": ".py",
   "mimetype": "text/x-python",
   "name": "python",
   "nbconvert_exporter": "python",
   "pygments_lexer": "ipython3",
   "version": "3.8.5"
  }
 },
 "nbformat": 4,
 "nbformat_minor": 5
}
