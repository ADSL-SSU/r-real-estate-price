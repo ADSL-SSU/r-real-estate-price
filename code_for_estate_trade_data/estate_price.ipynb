{
 "cells": [
  {
   "cell_type": "code",
   "execution_count": 55,
   "metadata": {},
   "outputs": [],
   "source": [
    "gu_name = ['강남구','강동구','강서구','강북구','관악구','광진구','구로구','금천구',\n",
    "          '노원구','동대문구','도봉구','동작구','마포구','서대문구','성동구','성북구',\n",
    "          '서초구','송파구','영등포구','용산구','양천구','은평구','종로구','중구','중랑구']\n",
    "\n",
    "many = len(gu_name)"
   ]
  },
  {
   "cell_type": "code",
   "execution_count": 56,
   "metadata": {},
   "outputs": [],
   "source": [
    "# 거래일 생성기\n",
    "def make_date(year, month):\n",
    "    date = ''\n",
    "    if month > 12:\n",
    "        date = str(year+1) + '-' + '01' + '-00'\n",
    "    elif month >= 10:\n",
    "        date = str(year) + '-' + str(month) + '-00'\n",
    "    else: \n",
    "        date = str(year) + '-0' + str(month) + '-00'\n",
    "    return date"
   ]
  },
  {
   "cell_type": "code",
   "execution_count": 57,
   "metadata": {},
   "outputs": [],
   "source": [
    "# 구 별로 dataframe 불러오기\n",
    "def get_dataframe(name):\n",
    "    return pd.read_csv(f'../seoul_apt_trade_data/{name}_trade.csv', encoding = 'cp949')"
   ]
  },
  {
   "cell_type": "code",
   "execution_count": 63,
   "metadata": {},
   "outputs": [],
   "source": [
    "import pandas as pd\n",
    "\n",
    "gu_data = [get_dataframe(name) for name in gu_name]\n",
    "price_data = []\n",
    "\n",
    "for i in range(25):\n",
    "    gu_data[i]['평당가격'] = gu_data[i]['거래금액']/gu_data[i]['전용면적']\n",
    "    gu_data[i]['거래월'] = [date[:7] for date in gu_data[i]['거래일']]\n",
    "    \n",
    "    price_data.append(gu_data[i].loc[:,['거래월','평당가격']].groupby('거래월').mean())\n",
    "    "
   ]
  },
  {
   "cell_type": "code",
   "execution_count": null,
   "metadata": {},
   "outputs": [],
   "source": []
  }
 ],
 "metadata": {
  "kernelspec": {
   "display_name": "Python 3",
   "language": "python",
   "name": "python3"
  },
  "language_info": {
   "codemirror_mode": {
    "name": "ipython",
    "version": 3
   },
   "file_extension": ".py",
   "mimetype": "text/x-python",
   "name": "python",
   "nbconvert_exporter": "python",
   "pygments_lexer": "ipython3",
   "version": "3.8.5"
  }
 },
 "nbformat": 4,
 "nbformat_minor": 4
}
