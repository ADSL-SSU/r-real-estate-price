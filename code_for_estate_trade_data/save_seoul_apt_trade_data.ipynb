{
 "cells": [
  {
   "cell_type": "code",
   "execution_count": null,
   "metadata": {},
   "outputs": [],
   "source": [
    "import PublicDataReader as pdr\n",
    "import pandas as pd\n",
    "print(pdr.__version__)\n",
    "\n",
    "serviceKey = 'IP3H%2BOkCGdWI49uv1bYedZoeovpC1512CuVW3QOPRtW7VJYCb22oKGjKACtsHb55i2TSn75l212DtwuS9c913w%3D%3D'\n",
    "\n",
    "molit = pdr.Transaction(serviceKey)"
   ]
  },
  {
   "cell_type": "code",
   "execution_count": null,
   "metadata": {},
   "outputs": [],
   "source": [
    "def get_district_code(bdongName):\n",
    "    district_name = bdongName\n",
    "    codeResult = molit.CodeFinder(district_name)\n",
    "    district_code = codeResult.iloc[0,1]\n",
    "    return district_code"
   ]
  },
  {
   "cell_type": "code",
   "execution_count": null,
   "metadata": {},
   "outputs": [],
   "source": [
    "gu_name = ['강남구','강동구','강서구','강북구','관악구','광진구','구로구','금천구',\n",
    "          '노원구','동대문구','도봉구','동작구','마포구','서대문구','성동구','성북구',\n",
    "          '서초구','송파구','영등포구','용산구','양천구','은평구','종로구','중구','중랑구']\n",
    "\n",
    "many = len(gu_name)"
   ]
  },
  {
   "cell_type": "code",
   "execution_count": null,
   "metadata": {},
   "outputs": [],
   "source": [
    "# 구 별로 dataframe 만들기\n",
    "for i in range(5,25):\n",
    "    \n",
    "    district_code = get_district_code(gu_name[i])\n",
    "    gu_data = molit.DataCollector(molit.AptTrade, district_code, 200601, 202012)\n",
    "    \n",
    "    file_name = gu_name[i]\n",
    "    gu_data.to_csv(f'../seoul_apt_trade_data/monthly_trade/{file_name}_trade.csv', encoding = 'cp949')"
   ]
  }
 ],
 "metadata": {
  "kernelspec": {
   "display_name": "Python 3",
   "language": "python",
   "name": "python3"
  },
  "language_info": {
   "codemirror_mode": {
    "name": "ipython",
    "version": 3
   },
   "file_extension": ".py",
   "mimetype": "text/x-python",
   "name": "python",
   "nbconvert_exporter": "python",
   "pygments_lexer": "ipython3",
   "version": "3.8.5"
  }
 },
 "nbformat": 4,
 "nbformat_minor": 4
}
