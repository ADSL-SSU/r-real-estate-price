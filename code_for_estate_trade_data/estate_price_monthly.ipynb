{
 "cells": [
  {
   "cell_type": "code",
   "execution_count": null,
   "metadata": {},
   "outputs": [],
   "source": [
    "gu_name = ['강남구','강동구','강서구','강북구','관악구','광진구','구로구','금천구',\n",
    "          '노원구','동대문구','도봉구','동작구','마포구','서대문구','성동구','성북구',\n",
    "          '서초구','송파구','영등포구','용산구','양천구','은평구','종로구','중구','중랑구']\n",
    "\n",
    "many = len(gu_name)"
   ]
  },
  {
   "cell_type": "code",
   "execution_count": null,
   "metadata": {},
   "outputs": [],
   "source": [
    "# 구 별로 dataframe 불러오기\n",
    "def get_dataframe(name):\n",
    "    return pd.read_csv(f'../seoul_apt_trade_data/monthly_trade/{name}_trade.csv', encoding = 'cp949')"
   ]
  },
  {
   "cell_type": "code",
   "execution_count": null,
   "metadata": {},
   "outputs": [],
   "source": [
    "import pandas as pd\n",
    "\n",
    "gu_data = [get_dataframe(name) for name in gu_name]\n",
    "price_data = []\n",
    "\n",
    "for i in range(many):\n",
    "    gu_data[i]['평당가격'] = gu_data[i]['거래금액']/gu_data[i]['전용면적']\n",
    "    gu_data[i]['거래월'] = [date[:7] for date in gu_data[i]['거래일']]\n",
    "    gu_data[i]['Unnamed: 0'] = 1\n",
    "    price_data.append(gu_data[i].loc[:,['거래월','평당가격','Unnamed: 0']].groupby('거래월').sum())\n",
    "    price_data[i]['평당가격'] = price_data[i]['평당가격']/price_data[i]['Unnamed: 0']"
   ]
  },
  {
   "cell_type": "code",
   "execution_count": null,
   "metadata": {},
   "outputs": [],
   "source": [
    "import matplotlib.pyplot as plt\n",
    "import matplotlib as mpl\n",
    "import matplotlib.font_manager as fm\n",
    "\n",
    "mpl.rcParams['axes.unicode_minus'] = False\n",
    "\n",
    "path = 'C:\\\\Windows\\\\Fonts\\\\Hancom Gothic Regular.ttf'\n",
    "font_name = fm.FontProperties(fname=path, size=50).get_name()\n",
    "plt.rc('font', family=font_name)\n",
    "\n",
    "for i in range(25):\n",
    "    print(gu_name[i],i)\n",
    "    plt.subplot(211)\n",
    "    plt.plot(price_data[i]['평당가격'])\n",
    "    plt.subplot(212)\n",
    "    plt.plot(price_data[i]['Unnamed: 0'])\n",
    "    plt.show()"
   ]
  }
 ],
 "metadata": {
  "kernelspec": {
   "display_name": "Python 3",
   "language": "python",
   "name": "python3"
  },
  "language_info": {
   "codemirror_mode": {
    "name": "ipython",
    "version": 3
   },
   "file_extension": ".py",
   "mimetype": "text/x-python",
   "name": "python",
   "nbconvert_exporter": "python",
   "pygments_lexer": "ipython3",
   "version": "3.8.5"
  }
 },
 "nbformat": 4,
 "nbformat_minor": 4
}
